{
 "cells": [
  {
   "cell_type": "code",
   "execution_count": 5,
   "id": "e399646e",
   "metadata": {},
   "outputs": [
    {
     "data": {
      "text/html": [
       "<style>.container { width:100% !important; }</style>"
      ],
      "text/plain": [
       "<IPython.core.display.HTML object>"
      ]
     },
     "metadata": {},
     "output_type": "display_data"
    }
   ],
   "source": [
    "from transformers import RobertaTokenizer, RobertaModel, AutoConfig\n",
    "import torch\n",
    "import numpy as np\n",
    "\n",
    "from numpy import dot\n",
    "from numpy.linalg import norm\n",
    "\n",
    "from IPython.display import display, HTML\n",
    "display(HTML(\"<style>.container { width:100% !important; }</style>\"))"
   ]
  },
  {
   "cell_type": "code",
   "execution_count": 2,
   "id": "daf78093",
   "metadata": {},
   "outputs": [
    {
     "name": "stderr",
     "output_type": "stream",
     "text": [
      "Some weights of the model checkpoint at sberbank-ai/ruRoberta-large were not used when initializing RobertaModel: ['lm_head.layer_norm.weight', 'lm_head.layer_norm.bias', 'lm_head.decoder.weight', 'lm_head.dense.bias', 'lm_head.decoder.bias', 'lm_head.dense.weight', 'lm_head.bias']\n",
      "- This IS expected if you are initializing RobertaModel from the checkpoint of a model trained on another task or with another architecture (e.g. initializing a BertForSequenceClassification model from a BertForPreTraining model).\n",
      "- This IS NOT expected if you are initializing RobertaModel from the checkpoint of a model that you expect to be exactly identical (initializing a BertForSequenceClassification model from a BertForSequenceClassification model).\n",
      "Some weights of RobertaModel were not initialized from the model checkpoint at sberbank-ai/ruRoberta-large and are newly initialized: ['roberta.pooler.dense.weight', 'roberta.pooler.dense.bias']\n",
      "You should probably TRAIN this model on a down-stream task to be able to use it for predictions and inference.\n"
     ]
    }
   ],
   "source": [
    "tokenizer = RobertaTokenizer.from_pretrained(\"sberbank-ai/ruRoberta-large\")\n",
    "config = AutoConfig.from_pretrained(\"sberbank-ai/ruRoberta-large\")\n",
    "config.output_hidden_states = True\n",
    "model = RobertaModel.from_pretrained(\"sberbank-ai/ruRoberta-large\", config=config)"
   ]
  },
  {
   "cell_type": "code",
   "execution_count": 6,
   "id": "c9eabb3e",
   "metadata": {},
   "outputs": [],
   "source": [
    "def get_vector(text: str) -> np.ndarray:\n",
    "    inputs = tokenizer(text, return_tensors=\"pt\")\n",
    "    vector = model(**inputs)[0][0][0].detach().numpy()\n",
    "    return vector\n",
    "\n",
    "\n",
    "def get_cosine_similarity(v1: np.ndarray, v2: np.ndarray) -> float:\n",
    "    cos_sim = dot(v1, v2)/(norm(v1)*norm(v2))\n",
    "    return cos_sim"
   ]
  },
  {
   "cell_type": "code",
   "execution_count": 7,
   "id": "4c9f55f0",
   "metadata": {},
   "outputs": [
    {
     "data": {
      "text/plain": [
       "0.91196394"
      ]
     },
     "execution_count": 7,
     "metadata": {},
     "output_type": "execute_result"
    }
   ],
   "source": [
    "str1 = 'По данным аналитиков компании AFS, только в мае из-за дефицита чипов в мире выпустили на 1,69 млн автомобилей меньше.'\n",
    "str2 = 'По информации умников фирмы AFS, в июне избыток чипов на планете сделали на 1,69 млн машин ниже'\n",
    "\n",
    "v1 = get_vector(str1)\n",
    "v2 = get_vector(str2)\n",
    "\n",
    "get_cosine_similarity(v1, v2)"
   ]
  },
  {
   "cell_type": "code",
   "execution_count": null,
   "id": "9b2de5fd",
   "metadata": {},
   "outputs": [],
   "source": []
  }
 ],
 "metadata": {
  "kernelspec": {
   "display_name": "Python 3 (ipykernel)",
   "language": "python",
   "name": "python3"
  },
  "language_info": {
   "codemirror_mode": {
    "name": "ipython",
    "version": 3
   },
   "file_extension": ".py",
   "mimetype": "text/x-python",
   "name": "python",
   "nbconvert_exporter": "python",
   "pygments_lexer": "ipython3",
   "version": "3.8.10"
  }
 },
 "nbformat": 4,
 "nbformat_minor": 5
}
